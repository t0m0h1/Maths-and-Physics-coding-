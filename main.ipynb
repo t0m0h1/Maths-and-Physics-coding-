{
 "cells": [
  {
   "cell_type": "markdown",
   "metadata": {},
   "source": [
    "### Python coding challenges focused on basic maths and physics concepts"
   ]
  },
  {
   "cell_type": "markdown",
   "metadata": {},
   "source": [
    "#### Area and perimeter of a circle"
   ]
  },
  {
   "cell_type": "code",
   "execution_count": 10,
   "metadata": {},
   "outputs": [
    {
     "name": "stdout",
     "output_type": "stream",
     "text": [
      "113.1\n"
     ]
    }
   ],
   "source": [
    "import math\n",
    "\n",
    "# Area=πr2\n",
    "\n",
    "pi = math.pi\n",
    "\n",
    "# Area\n",
    "def area(radius):\n",
    "    val = pi * radius ** 2\n",
    "    return round(val, 2)\n",
    "\n",
    "print(area(6))\n"
   ]
  }
 ],
 "metadata": {
  "kernelspec": {
   "display_name": "Python 3",
   "language": "python",
   "name": "python3"
  },
  "language_info": {
   "codemirror_mode": {
    "name": "ipython",
    "version": 3
   },
   "file_extension": ".py",
   "mimetype": "text/x-python",
   "name": "python",
   "nbconvert_exporter": "python",
   "pygments_lexer": "ipython3",
   "version": "3.12.0"
  }
 },
 "nbformat": 4,
 "nbformat_minor": 2
}
